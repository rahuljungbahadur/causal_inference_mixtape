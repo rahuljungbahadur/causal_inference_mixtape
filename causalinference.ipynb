{
 "cells": [
  {
   "cell_type": "code",
   "execution_count": 1,
   "metadata": {},
   "outputs": [],
   "source": [
    "from causalinference import CausalModel"
   ]
  },
  {
   "cell_type": "code",
   "execution_count": 2,
   "metadata": {},
   "outputs": [],
   "source": [
    "from causalinference.utils import random_data"
   ]
  },
  {
   "cell_type": "code",
   "execution_count": 3,
   "metadata": {},
   "outputs": [],
   "source": [
    "Y, D, X = random_data()"
   ]
  },
  {
   "cell_type": "code",
   "execution_count": 4,
   "metadata": {},
   "outputs": [
    {
     "data": {
      "text/plain": "array([ 2.91151058,  7.39804622,  1.38896718, ...,  0.43313153,\n       -2.74486327, -2.19476756])"
     },
     "execution_count": 4,
     "metadata": {},
     "output_type": "execute_result"
    }
   ],
   "source": [
    "Y"
   ]
  },
  {
   "cell_type": "code",
   "execution_count": 17,
   "metadata": {},
   "outputs": [],
   "source": [
    "import matplotlib.pyplot as plt"
   ]
  },
  {
   "cell_type": "code",
   "execution_count": 18,
   "metadata": {},
   "outputs": [
    {
     "data": {
      "text/plain": "(array([2466.,    0.,    0.,    0.,    0.,    0.,    0.,    0.,    0.,\n        2534.]),\n array([0. , 0.1, 0.2, 0.3, 0.4, 0.5, 0.6, 0.7, 0.8, 0.9, 1. ]),\n <BarContainer object of 10 artists>)"
     },
     "execution_count": 18,
     "metadata": {},
     "output_type": "execute_result"
    },
    {
     "data": {
      "image/png": "[encoded data removed]",
      "text/plain": "<Figure size 432x288 with 1 Axes>"
     },
     "metadata": {
      "needs_background": "light"
     },
     "output_type": "display_data"
    }
   ],
   "source": [
    "plt.hist(D)"
   ]
  },
  {
   "cell_type": "code",
   "execution_count": 38,
   "metadata": {},
   "outputs": [
    {
     "ename": "TypeError",
     "evalue": "__init__() missing 1 required positional argument: 'Y'",
     "output_type": "error",
     "traceback": [
      "\u001b[1;31m---------------------------------------------------------------------------\u001b[0m",
      "\u001b[1;31mTypeError\u001b[0m                                 Traceback (most recent call last)",
      "\u001b[1;32mC:\\Users\\USBAHA~1\\AppData\\Local\\Temp/ipykernel_59660/85931893.py\u001b[0m in \u001b[0;36m<module>\u001b[1;34m\u001b[0m\n\u001b[1;32m----> 1\u001b[1;33m \u001b[0mmodel2\u001b[0m \u001b[1;33m=\u001b[0m \u001b[0mCausalModel\u001b[0m\u001b[1;33m(\u001b[0m\u001b[0mD\u001b[0m \u001b[1;33m=\u001b[0m \u001b[0mD\u001b[0m\u001b[1;33m,\u001b[0m \u001b[0mX\u001b[0m \u001b[1;33m=\u001b[0m \u001b[0mX\u001b[0m\u001b[1;33m)\u001b[0m\u001b[1;33m\u001b[0m\u001b[1;33m\u001b[0m\u001b[0m\n\u001b[0m",
      "\u001b[1;31mTypeError\u001b[0m: __init__() missing 1 required positional argument: 'Y'"
     ]
    }
   ],
   "source": [
    "model = CausalModel(Y, D, X)"
   ]
  },
  {
   "cell_type": "code",
   "execution_count": 15,
   "metadata": {},
   "outputs": [
    {
     "name": "stdout",
     "output_type": "stream",
     "text": [
      "Help on method est_propensity in module causalinference.causal:\n",
      "\n",
      "est_propensity(lin='all', qua=None) method of causalinference.causal.CausalModel instance\n",
      "    Estimates the propensity scores given list of covariates to\n",
      "    include linearly or quadratically.\n",
      "    \n",
      "    The propensity score is the conditional probability of\n",
      "    receiving the treatment given the observed covariates.\n",
      "    Estimation is done via a logistic regression.\n",
      "    \n",
      "    Parameters\n",
      "    ----------\n",
      "    lin: string or list, optional\n",
      "            Column numbers (zero-based) of variables of\n",
      "            the original covariate matrix X to include\n",
      "            linearly. Defaults to the string 'all', which\n",
      "            uses whole covariate matrix.\n",
      "    qua: list, optional\n",
      "            Tuples indicating which columns of the original\n",
      "            covariate matrix to multiply and include. E.g.,\n",
      "            [(1,1), (2,3)] indicates squaring the 2nd column\n",
      "            and including the product of the 3rd and 4th\n",
      "            columns. Default is to not include any\n",
      "            quadratic terms.\n",
      "\n"
     ]
    }
   ],
   "source": [
    "help(model.est_propensity)"
   ]
  },
  {
   "cell_type": "code",
   "execution_count": 6,
   "metadata": {},
   "outputs": [],
   "source": [
    "model.est_propensity()"
   ]
  },
  {
   "cell_type": "code",
   "execution_count": 10,
   "metadata": {},
   "outputs": [],
   "source": [
    "pro_scores = model.propensity['fitted']"
   ]
  },
  {
   "cell_type": "code",
   "execution_count": 12,
   "metadata": {},
   "outputs": [
    {
     "name": "stdout",
     "output_type": "stream",
     "text": [
      "[0.31965519 0.96837186 0.44464778 ... 0.67462988 0.16543586 0.06414834]\n"
     ]
    }
   ],
   "source": [
    "print(pro_scores)"
   ]
  },
  {
   "cell_type": "markdown",
   "metadata": {},
   "source": [
    "# Computing Pro Scores via logistic regression"
   ]
  },
  {
   "cell_type": "code",
   "execution_count": 13,
   "metadata": {},
   "outputs": [],
   "source": [
    "import statsmodels.formula.api as smf\r\n"
   ]
  },
  {
   "cell_type": "code",
   "execution_count": 19,
   "metadata": {},
   "outputs": [
    {
     "name": "stdout",
     "output_type": "stream",
     "text": [
      "Help on method from_formula in module statsmodels.base.model:\n",
      "\n",
      "from_formula(formula, data, subset=None, drop_cols=None, *args, **kwargs) method of builtins.type instance\n",
      "    Create a Model from a formula and dataframe.\n",
      "    \n",
      "    Parameters\n",
      "    ----------\n",
      "    formula : str or generic Formula object\n",
      "        The formula specifying the model.\n",
      "    data : array_like\n",
      "        The data for the model. See Notes.\n",
      "    subset : array_like\n",
      "        An array-like object of booleans, integers, or index values that\n",
      "        indicate the subset of df to use in the model. Assumes df is a\n",
      "        `pandas.DataFrame`.\n",
      "    drop_cols : array_like\n",
      "        Columns to drop from the design matrix.  Cannot be used to\n",
      "        drop terms involving categoricals.\n",
      "    *args\n",
      "        Additional positional argument that are passed to the model.\n",
      "    **kwargs\n",
      "        These are passed to the model with one exception. The\n",
      "        ``eval_env`` keyword is passed to patsy. It can be either a\n",
      "        :class:`patsy:patsy.EvalEnvironment` object or an integer\n",
      "        indicating the depth of the namespace to use. For example, the\n",
      "        default ``eval_env=0`` uses the calling namespace. If you wish\n",
      "        to use a \"clean\" environment set ``eval_env=-1``.\n",
      "    \n",
      "    Returns\n",
      "    -------\n",
      "    model\n",
      "        The model instance.\n",
      "    \n",
      "    Notes\n",
      "    -----\n",
      "    data must define __getitem__ with the keys in the formula terms\n",
      "    args and kwargs are passed on to the model instantiation. E.g.,\n",
      "    a numpy structured or rec array, a dictionary, or a pandas DataFrame.\n",
      "\n"
     ]
    }
   ],
   "source": [
    "help(smf.logit)"
   ]
  },
  {
   "cell_type": "code",
   "execution_count": 21,
   "metadata": {},
   "outputs": [],
   "source": [
    "import pandas as pd"
   ]
  },
  {
   "cell_type": "code",
   "execution_count": 26,
   "metadata": {},
   "outputs": [
    {
     "data": {
      "text/plain": "(5000, 3)"
     },
     "execution_count": 26,
     "metadata": {},
     "output_type": "execute_result"
    }
   ],
   "source": [
    "X.shape"
   ]
  },
  {
   "cell_type": "code",
   "execution_count": 28,
   "metadata": {},
   "outputs": [
    {
     "data": {
      "text/html": "<div>\n<style scoped>\n    .dataframe tbody tr th:only-of-type {\n        vertical-align: middle;\n    }\n\n    .dataframe tbody tr th {\n        vertical-align: top;\n    }\n\n    .dataframe thead th {\n        text-align: right;\n    }\n</style>\n<table border=\"1\" class=\"dataframe\">\n  <thead>\n    <tr style=\"text-align: right;\">\n      <th></th>\n      <th>D</th>\n      <th>X1</th>\n      <th>X2</th>\n      <th>X3</th>\n    </tr>\n  </thead>\n  <tbody>\n    <tr>\n      <th>0</th>\n      <td>1</td>\n      <td>-0.173208</td>\n      <td>-0.146131</td>\n      <td>-0.463690</td>\n    </tr>\n    <tr>\n      <th>1</th>\n      <td>1</td>\n      <td>-0.285450</td>\n      <td>1.718771</td>\n      <td>2.014767</td>\n    </tr>\n    <tr>\n      <th>2</th>\n      <td>1</td>\n      <td>-0.111231</td>\n      <td>-0.338644</td>\n      <td>0.201513</td>\n    </tr>\n    <tr>\n      <th>3</th>\n      <td>0</td>\n      <td>-0.222078</td>\n      <td>-1.155089</td>\n      <td>-0.347328</td>\n    </tr>\n    <tr>\n      <th>4</th>\n      <td>0</td>\n      <td>0.285717</td>\n      <td>-0.048646</td>\n      <td>-1.151709</td>\n    </tr>\n  </tbody>\n</table>\n</div>",
      "text/plain": "   D        X1        X2        X3\n0  1 -0.173208 -0.146131 -0.463690\n1  1 -0.285450  1.718771  2.014767\n2  1 -0.111231 -0.338644  0.201513\n3  0 -0.222078 -1.155089 -0.347328\n4  0  0.285717 -0.048646 -1.151709"
     },
     "execution_count": 28,
     "metadata": {},
     "output_type": "execute_result"
    }
   ],
   "source": [
    "## dataframe for smf\r\n",
    "causal_df = pd.DataFrame({'D':D, 'X1':X[:,0], 'X2':X[:, 1], 'X3':X[:, 2]})\r\n",
    "causal_df.head()"
   ]
  },
  {
   "cell_type": "code",
   "execution_count": 30,
   "metadata": {},
   "outputs": [
    {
     "name": "stdout",
     "output_type": "stream",
     "text": [
      "Optimization terminated successfully.\n",
      "         Current function value: 0.500995\n",
      "         Iterations 6\n"
     ]
    }
   ],
   "source": [
    "logistic_model = smf.logit(formula=\"D ~ X1 + X2 + X3\", data=causal_df).fit()"
   ]
  },
  {
   "cell_type": "code",
   "execution_count": 31,
   "metadata": {},
   "outputs": [
    {
     "data": {
      "text/html": "<table class=\"simpletable\">\n<caption>Logit Regression Results</caption>\n<tr>\n  <th>Dep. Variable:</th>           <td>D</td>        <th>  No. Observations:  </th>  <td>  5000</td> \n</tr>\n<tr>\n  <th>Model:</th>                 <td>Logit</td>      <th>  Df Residuals:      </th>  <td>  4996</td> \n</tr>\n<tr>\n  <th>Method:</th>                 <td>MLE</td>       <th>  Df Model:          </th>  <td>     3</td> \n</tr>\n<tr>\n  <th>Date:</th>            <td>Sun, 30 Oct 2022</td> <th>  Pseudo R-squ.:     </th>  <td>0.2771</td> \n</tr>\n<tr>\n  <th>Time:</th>                <td>12:26:37</td>     <th>  Log-Likelihood:    </th> <td> -2505.0</td>\n</tr>\n<tr>\n  <th>converged:</th>             <td>True</td>       <th>  LL-Null:           </th> <td> -3465.3</td>\n</tr>\n<tr>\n  <th>Covariance Type:</th>     <td>nonrobust</td>    <th>  LLR p-value:       </th>  <td> 0.000</td> \n</tr>\n</table>\n<table class=\"simpletable\">\n<tr>\n      <td></td>         <th>coef</th>     <th>std err</th>      <th>z</th>      <th>P>|z|</th>  <th>[0.025</th>    <th>0.975]</th>  \n</tr>\n<tr>\n  <th>Intercept</th> <td>    0.0147</td> <td>    0.035</td> <td>    0.423</td> <td> 0.672</td> <td>   -0.053</td> <td>    0.083</td>\n</tr>\n<tr>\n  <th>X1</th>        <td>    0.9603</td> <td>    0.041</td> <td>   23.608</td> <td> 0.000</td> <td>    0.881</td> <td>    1.040</td>\n</tr>\n<tr>\n  <th>X2</th>        <td>    0.9761</td> <td>    0.041</td> <td>   23.806</td> <td> 0.000</td> <td>    0.896</td> <td>    1.056</td>\n</tr>\n<tr>\n  <th>X3</th>        <td>    0.9943</td> <td>    0.041</td> <td>   24.433</td> <td> 0.000</td> <td>    0.915</td> <td>    1.074</td>\n</tr>\n</table>",
      "text/plain": "<class 'statsmodels.iolib.summary.Summary'>\n\"\"\"\n                           Logit Regression Results                           \n==============================================================================\nDep. Variable:                      D   No. Observations:                 5000\nModel:                          Logit   Df Residuals:                     4996\nMethod:                           MLE   Df Model:                            3\nDate:                Sun, 30 Oct 2022   Pseudo R-squ.:                  0.2771\nTime:                        12:26:37   Log-Likelihood:                -2505.0\nconverged:                       True   LL-Null:                       -3465.3\nCovariance Type:            nonrobust   LLR p-value:                     0.000\n==============================================================================\n                 coef    std err          z      P>|z|      [0.025      0.975]\n------------------------------------------------------------------------------\nIntercept      0.0147      0.035      0.423      0.672      -0.053       0.083\nX1             0.9603      0.041     23.608      0.000       0.881       1.040\nX2             0.9761      0.041     23.806      0.000       0.896       1.056\nX3             0.9943      0.041     24.433      0.000       0.915       1.074\n==============================================================================\n\"\"\""
     },
     "execution_count": 31,
     "metadata": {},
     "output_type": "execute_result"
    }
   ],
   "source": [
    "logistic_model.summary()"
   ]
  },
  {
   "cell_type": "code",
   "execution_count": 32,
   "metadata": {},
   "outputs": [
    {
     "data": {
      "text/plain": "array([0.31965519, 0.96837186, 0.44464778, ..., 0.67462988, 0.16543586,\n       0.06414834])"
     },
     "execution_count": 32,
     "metadata": {},
     "output_type": "execute_result"
    }
   ],
   "source": [
    "pro_scores"
   ]
  },
  {
   "cell_type": "code",
   "execution_count": 33,
   "metadata": {},
   "outputs": [
    {
     "data": {
      "text/plain": "{'lin': range(0, 3), 'qua': [], 'coef': array([0.01467386, 0.96031512, 0.97609148, 0.99432781]), 'loglike': -2504.97704136334, 'fitted': array([0.31965519, 0.96837186, 0.44464778, ..., 0.67462988, 0.16543586,\n       0.06414834]), 'se': array([0.03468387, 0.04067722, 0.04100248, 0.04069583])}"
     },
     "execution_count": 33,
     "metadata": {},
     "output_type": "execute_result"
    }
   ],
   "source": [
    "model.propensity"
   ]
  },
  {
   "cell_type": "markdown",
   "metadata": {},
   "source": [
    "## Seems like the coefficients do match"
   ]
  },
  {
   "cell_type": "code",
   "execution_count": 36,
   "metadata": {},
   "outputs": [],
   "source": [
    "predicted_values = logistic_model.predict(causal_df[['X1', 'X2', 'X3']])"
   ]
  },
  {
   "cell_type": "code",
   "execution_count": 37,
   "metadata": {},
   "outputs": [
    {
     "data": {
      "text/plain": "0       0.319655\n1       0.968372\n2       0.444648\n3       0.158235\n4       0.288310\n          ...   \n4995    0.872487\n4996    0.089933\n4997    0.674630\n4998    0.165436\n4999    0.064148\nLength: 5000, dtype: float64"
     },
     "execution_count": 37,
     "metadata": {},
     "output_type": "execute_result"
    }
   ],
   "source": [
    "predicted_values"
   ]
  },
  {
   "cell_type": "markdown",
   "metadata": {},
   "source": [
    "## Seems like the pro_scores are also a match"
   ]
  },
  {
   "cell_type": "markdown",
   "metadata": {},
   "source": [
    "# Matching\r\n",
    "\r\n",
    "The units can be matched based on the `propensity scores` "
   ]
  },
  {
   "cell_type": "code",
   "execution_count": 40,
   "metadata": {},
   "outputs": [],
   "source": [
    "import seaborn as sns"
   ]
  },
  {
   "cell_type": "code",
   "execution_count": 41,
   "metadata": {},
   "outputs": [],
   "source": [
    "df_pro_d = pd.DataFrame({'D':D, 'pro_scores':pro_scores})"
   ]
  },
  {
   "cell_type": "code",
   "execution_count": 48,
   "metadata": {},
   "outputs": [
    {
     "name": "stdout",
     "output_type": "stream",
     "text": [
      "Help on function kdeplot in module seaborn.distributions:\n",
      "\n",
      "kdeplot(x=None, *, y=None, shade=None, vertical=False, kernel=None, bw=None, gridsize=200, cut=3, clip=None, legend=True, cumulative=False, shade_lowest=None, cbar=False, cbar_ax=None, cbar_kws=None, ax=None, weights=None, hue=None, palette=None, hue_order=None, hue_norm=None, multiple='layer', common_norm=True, common_grid=False, levels=10, thresh=0.05, bw_method='scott', bw_adjust=1, log_scale=None, color=None, fill=None, data=None, data2=None, warn_singular=True, **kwargs)\n",
      "    Plot univariate or bivariate distributions using kernel density estimation.\n",
      "    \n",
      "    A kernel density estimate (KDE) plot is a method for visualizing the\n",
      "    distribution of observations in a dataset, analagous to a histogram. KDE\n",
      "    represents the data using a continuous probability density curve in one or\n",
      "    more dimensions.\n",
      "    \n",
      "    The approach is explained further in the :ref:`user guide <tutorial_kde>`.\n",
      "    \n",
      "    Relative to a histogram, KDE can produce a plot that is less cluttered and\n",
      "    more interpretable, especially when drawing multiple distributions. But it\n",
      "    has the potential to introduce distortions if the underlying distribution is\n",
      "    bounded or not smooth. Like a histogram, the quality of the representation\n",
      "    also depends on the selection of good smoothing parameters.\n",
      "    \n",
      "    Parameters\n",
      "    ----------\n",
      "    x, y : vectors or keys in ``data``\n",
      "        Variables that specify positions on the x and y axes.\n",
      "    shade : bool\n",
      "        Alias for ``fill``. Using ``fill`` is recommended.\n",
      "    vertical : bool\n",
      "        Orientation parameter.\n",
      "    \n",
      "        .. deprecated:: 0.11.0\n",
      "           specify orientation by assigning the ``x`` or ``y`` variables.\n",
      "    \n",
      "    kernel : str\n",
      "        Function that defines the kernel.\n",
      "    \n",
      "        .. deprecated:: 0.11.0\n",
      "           support for non-Gaussian kernels has been removed.\n",
      "    \n",
      "    bw : str, number, or callable\n",
      "        Smoothing parameter.\n",
      "    \n",
      "        .. deprecated:: 0.11.0\n",
      "           see ``bw_method`` and ``bw_adjust``.\n",
      "    \n",
      "    gridsize : int\n",
      "        Number of points on each dimension of the evaluation grid.\n",
      "    cut : number, optional\n",
      "        Factor, multiplied by the smoothing bandwidth, that determines how\n",
      "        far the evaluation grid extends past the extreme datapoints. When\n",
      "        set to 0, truncate the curve at the data limits.\n",
      "    clip : pair of numbers or None, or a pair of such pairs\n",
      "        Do not evaluate the density outside of these limits.\n",
      "    legend : bool\n",
      "        If False, suppress the legend for semantic variables.\n",
      "    cumulative : bool, optional\n",
      "        If True, estimate a cumulative distribution function.\n",
      "    shade_lowest : bool\n",
      "        If False, the area below the lowest contour will be transparent\n",
      "    \n",
      "        .. deprecated:: 0.11.0\n",
      "           see ``thresh``.\n",
      "    \n",
      "    cbar : bool\n",
      "        If True, add a colorbar to annotate the color mapping in a bivariate plot.\n",
      "        Note: Does not currently support plots with a ``hue`` variable well.\n",
      "    cbar_ax : :class:`matplotlib.axes.Axes`\n",
      "        Pre-existing axes for the colorbar.\n",
      "    cbar_kws : dict\n",
      "        Additional parameters passed to :meth:`matplotlib.figure.Figure.colorbar`.\n",
      "    ax : :class:`matplotlib.axes.Axes`\n",
      "        Pre-existing axes for the plot. Otherwise, call :func:`matplotlib.pyplot.gca`\n",
      "        internally.\n",
      "    weights : vector or key in ``data``\n",
      "        If provided, weight the kernel density estimation using these values.\n",
      "    hue : vector or key in ``data``\n",
      "        Semantic variable that is mapped to determine the color of plot elements.\n",
      "    palette : string, list, dict, or :class:`matplotlib.colors.Colormap`\n",
      "        Method for choosing the colors to use when mapping the ``hue`` semantic.\n",
      "        String values are passed to :func:`color_palette`. List or dict values\n",
      "        imply categorical mapping, while a colormap object implies numeric mapping.\n",
      "    hue_order : vector of strings\n",
      "        Specify the order of processing and plotting for categorical levels of the\n",
      "        ``hue`` semantic.\n",
      "    hue_norm : tuple or :class:`matplotlib.colors.Normalize`\n",
      "        Either a pair of values that set the normalization range in data units\n",
      "        or an object that will map from data units into a [0, 1] interval. Usage\n",
      "        implies numeric mapping.\n",
      "    multiple : {{\"layer\", \"stack\", \"fill\"}}\n",
      "        Method for drawing multiple elements when semantic mapping creates subsets.\n",
      "        Only relevant with univariate data.\n",
      "    common_norm : bool\n",
      "        If True, scale each conditional density by the number of observations\n",
      "        such that the total area under all densities sums to 1. Otherwise,\n",
      "        normalize each density independently.\n",
      "    common_grid : bool\n",
      "        If True, use the same evaluation grid for each kernel density estimate.\n",
      "        Only relevant with univariate data.\n",
      "    levels : int or vector\n",
      "        Number of contour levels or values to draw contours at. A vector argument\n",
      "        must have increasing values in [0, 1]. Levels correspond to iso-proportions\n",
      "        of the density: e.g., 20% of the probability mass will lie below the\n",
      "        contour drawn for 0.2. Only relevant with bivariate data.\n",
      "    thresh : number in [0, 1]\n",
      "        Lowest iso-proportion level at which to draw a contour line. Ignored when\n",
      "        ``levels`` is a vector. Only relevant with bivariate data.\n",
      "    bw_method : string, scalar, or callable, optional\n",
      "        Method for determining the smoothing bandwidth to use; passed to\n",
      "        :class:`scipy.stats.gaussian_kde`.\n",
      "    bw_adjust : number, optional\n",
      "        Factor that multiplicatively scales the value chosen using\n",
      "        ``bw_method``. Increasing will make the curve smoother. See Notes.\n",
      "    log_scale : bool or number, or pair of bools or numbers\n",
      "        Set axis scale(s) to log. A single value sets the data axis for univariate\n",
      "        distributions and both axes for bivariate distributions. A pair of values\n",
      "        sets each axis independently. Numeric values are interpreted as the desired\n",
      "        base (default 10). If `False`, defer to the existing Axes scale.\n",
      "    color : :mod:`matplotlib color <matplotlib.colors>`\n",
      "        Single color specification for when hue mapping is not used. Otherwise, the\n",
      "        plot will try to hook into the matplotlib property cycle.\n",
      "    fill : bool or None\n",
      "        If True, fill in the area under univariate density curves or between\n",
      "        bivariate contours. If None, the default depends on ``multiple``.\n",
      "    data : :class:`pandas.DataFrame`, :class:`numpy.ndarray`, mapping, or sequence\n",
      "        Input data structure. Either a long-form collection of vectors that can be\n",
      "        assigned to named variables or a wide-form dataset that will be internally\n",
      "        reshaped.\n",
      "    warn_singular : bool\n",
      "        If True, issue a warning when trying to estimate the density of data\n",
      "        with zero variance.\n",
      "    kwargs\n",
      "        Other keyword arguments are passed to one of the following matplotlib\n",
      "        functions:\n",
      "    \n",
      "        - :meth:`matplotlib.axes.Axes.plot` (univariate, ``fill=False``),\n",
      "        - :meth:`matplotlib.axes.Axes.fill_between` (univariate, ``fill=True``),\n",
      "        - :meth:`matplotlib.axes.Axes.contour` (bivariate, ``fill=False``),\n",
      "        - :meth:`matplotlib.axes.contourf` (bivariate, ``fill=True``).\n",
      "    \n",
      "    Returns\n",
      "    -------\n",
      "    :class:`matplotlib.axes.Axes`\n",
      "        The matplotlib axes containing the plot.\n",
      "    \n",
      "    See Also\n",
      "    --------\n",
      "    displot : Figure-level interface to distribution plot functions.\n",
      "    histplot : Plot a histogram of binned counts with optional normalization or smoothing.\n",
      "    ecdfplot : Plot empirical cumulative distribution functions.\n",
      "    jointplot : Draw a bivariate plot with univariate marginal distributions.\n",
      "    violinplot : Draw an enhanced boxplot using kernel density estimation.\n",
      "    \n",
      "    Notes\n",
      "    -----\n",
      "    \n",
      "    The *bandwidth*, or standard deviation of the smoothing kernel, is an\n",
      "    important parameter. Misspecification of the bandwidth can produce a\n",
      "    distorted representation of the data. Much like the choice of bin width in a\n",
      "    histogram, an over-smoothed curve can erase true features of a\n",
      "    distribution, while an under-smoothed curve can create false features out of\n",
      "    random variability. The rule-of-thumb that sets the default bandwidth works\n",
      "    best when the true distribution is smooth, unimodal, and roughly bell-shaped.\n",
      "    It is always a good idea to check the default behavior by using ``bw_adjust``\n",
      "    to increase or decrease the amount of smoothing.\n",
      "    \n",
      "    Because the smoothing algorithm uses a Gaussian kernel, the estimated density\n",
      "    curve can extend to values that do not make sense for a particular dataset.\n",
      "    For example, the curve may be drawn over negative values when smoothing data\n",
      "    that are naturally positive. The ``cut`` and ``clip`` parameters can be used\n",
      "    to control the extent of the curve, but datasets that have many observations\n",
      "    close to a natural boundary may be better served by a different visualization\n",
      "    method.\n",
      "    \n",
      "    Similar considerations apply when a dataset is naturally discrete or \"spiky\"\n",
      "    (containing many repeated observations of the same value). Kernel density\n",
      "    estimation will always produce a smooth curve, which would be misleading\n",
      "    in these situations.\n",
      "    \n",
      "    The units on the density axis are a common source of confusion. While kernel\n",
      "    density estimation produces a probability distribution, the height of the curve\n",
      "    at each point gives a density, not a probability. A probability can be obtained\n",
      "    only by integrating the density across a range. The curve is normalized so\n",
      "    that the integral over all possible values is 1, meaning that the scale of\n",
      "    the density axis depends on the data values.\n",
      "    \n",
      "    Examples\n",
      "    --------\n",
      "    \n",
      "    .. include:: ../docstrings/kdeplot.rst\n",
      "\n"
     ]
    }
   ],
   "source": [
    "help(sns.kdeplot)"
   ]
  },
  {
   "cell_type": "code",
   "execution_count": 50,
   "metadata": {},
   "outputs": [
    {
     "data": {
      "text/plain": "<AxesSubplot:xlabel='pro_scores', ylabel='Density'>"
     },
     "execution_count": 50,
     "metadata": {},
     "output_type": "execute_result"
    },
    {
     "data": {
      "image/png": "[encoded data removed]",
      "text/plain": "<Figure size 432x288 with 1 Axes>"
     },
     "metadata": {
      "needs_background": "light"
     },
     "output_type": "display_data"
    }
   ],
   "source": [
    "sns.kdeplot(df_pro_d['pro_scores'], hue=df_pro_d['D'], clip=(0.0, 1.0))"
   ]
  },
  {
   "cell_type": "markdown",
   "metadata": {},
   "source": [
    "## Trim those obs below 0.1 and 0.9"
   ]
  },
  {
   "cell_type": "code",
   "execution_count": 51,
   "metadata": {},
   "outputs": [],
   "source": [
    "causal_df['pro_scores'] = pro_scores"
   ]
  },
  {
   "cell_type": "code",
   "execution_count": 52,
   "metadata": {},
   "outputs": [
    {
     "data": {
      "text/html": "<div>\n<style scoped>\n    .dataframe tbody tr th:only-of-type {\n        vertical-align: middle;\n    }\n\n    .dataframe tbody tr th {\n        vertical-align: top;\n    }\n\n    .dataframe thead th {\n        text-align: right;\n    }\n</style>\n<table border=\"1\" class=\"dataframe\">\n  <thead>\n    <tr style=\"text-align: right;\">\n      <th></th>\n      <th>D</th>\n      <th>X1</th>\n      <th>X2</th>\n      <th>X3</th>\n      <th>pro_scores</th>\n    </tr>\n  </thead>\n  <tbody>\n    <tr>\n      <th>0</th>\n      <td>1</td>\n      <td>-0.173208</td>\n      <td>-0.146131</td>\n      <td>-0.463690</td>\n      <td>0.319655</td>\n    </tr>\n    <tr>\n      <th>1</th>\n      <td>1</td>\n      <td>-0.285450</td>\n      <td>1.718771</td>\n      <td>2.014767</td>\n      <td>0.968372</td>\n    </tr>\n    <tr>\n      <th>2</th>\n      <td>1</td>\n      <td>-0.111231</td>\n      <td>-0.338644</td>\n      <td>0.201513</td>\n      <td>0.444648</td>\n    </tr>\n    <tr>\n      <th>3</th>\n      <td>0</td>\n      <td>-0.222078</td>\n      <td>-1.155089</td>\n      <td>-0.347328</td>\n      <td>0.158235</td>\n    </tr>\n    <tr>\n      <th>4</th>\n      <td>0</td>\n      <td>0.285717</td>\n      <td>-0.048646</td>\n      <td>-1.151709</td>\n      <td>0.288310</td>\n    </tr>\n  </tbody>\n</table>\n</div>",
      "text/plain": "   D        X1        X2        X3  pro_scores\n0  1 -0.173208 -0.146131 -0.463690    0.319655\n1  1 -0.285450  1.718771  2.014767    0.968372\n2  1 -0.111231 -0.338644  0.201513    0.444648\n3  0 -0.222078 -1.155089 -0.347328    0.158235\n4  0  0.285717 -0.048646 -1.151709    0.288310"
     },
     "execution_count": 52,
     "metadata": {},
     "output_type": "execute_result"
    }
   ],
   "source": [
    "causal_df.head()"
   ]
  },
  {
   "cell_type": "code",
   "execution_count": 54,
   "metadata": {},
   "outputs": [],
   "source": [
    "causal_df_trimmed = causal_df[(causal_df.pro_scores >= 0.1) & (causal_df.pro_scores<=0.9)]"
   ]
  },
  {
   "cell_type": "code",
   "execution_count": 57,
   "metadata": {},
   "outputs": [
    {
     "data": {
      "text/plain": "(4041, 5)"
     },
     "execution_count": 57,
     "metadata": {},
     "output_type": "execute_result"
    }
   ],
   "source": [
    "causal_df_trimmed.shape"
   ]
  },
  {
   "cell_type": "code",
   "execution_count": 58,
   "metadata": {},
   "outputs": [
    {
     "data": {
      "text/plain": "0.1"
     },
     "execution_count": 58,
     "metadata": {},
     "output_type": "execute_result"
    }
   ],
   "source": [
    "model.cutoff"
   ]
  },
  {
   "cell_type": "code",
   "execution_count": 60,
   "metadata": {},
   "outputs": [],
   "source": [
    "model.trim()"
   ]
  },
  {
   "cell_type": "code",
   "execution_count": 62,
   "metadata": {},
   "outputs": [
    {
     "data": {
      "text/plain": "(4041,)"
     },
     "execution_count": 62,
     "metadata": {},
     "output_type": "execute_result"
    }
   ],
   "source": [
    "model.raw_data['D'].shape"
   ]
  },
  {
   "cell_type": "markdown",
   "metadata": {},
   "source": [
    "# Matches with the manual transformation\r\n",
    "Both have 4041 obs"
   ]
  },
  {
   "cell_type": "code",
   "execution_count": 73,
   "metadata": {},
   "outputs": [],
   "source": [
    "model.reset()"
   ]
  },
  {
   "cell_type": "code",
   "execution_count": 76,
   "metadata": {},
   "outputs": [
    {
     "data": {
      "text/plain": "(5000,)"
     },
     "execution_count": 76,
     "metadata": {},
     "output_type": "execute_result"
    }
   ],
   "source": [
    "model.raw_data['D'].shape"
   ]
  },
  {
   "cell_type": "code",
   "execution_count": 79,
   "metadata": {},
   "outputs": [],
   "source": [
    "model.est_propensity()"
   ]
  },
  {
   "cell_type": "code",
   "execution_count": 82,
   "metadata": {},
   "outputs": [],
   "source": [
    "model.trim_s()"
   ]
  },
  {
   "cell_type": "code",
   "execution_count": 83,
   "metadata": {},
   "outputs": [
    {
     "data": {
      "text/plain": "0.09916709145163372"
     },
     "execution_count": 83,
     "metadata": {},
     "output_type": "execute_result"
    }
   ],
   "source": [
    "model.cutoff"
   ]
  },
  {
   "cell_type": "markdown",
   "metadata": {},
   "source": [
    "This cutoff should ideally be the min pro score for the control group and (1-max(proscore)) of the treated group"
   ]
  },
  {
   "cell_type": "code",
   "execution_count": 90,
   "metadata": {},
   "outputs": [
    {
     "data": {
      "text/plain": "(0.002281153034871663, 0.01911310112758386)"
     },
     "execution_count": 90,
     "metadata": {},
     "output_type": "execute_result"
    }
   ],
   "source": [
    "min(causal_df.pro_scores[causal_df.D==0]), min(causal_df.pro_scores[causal_df.D==1])"
   ]
  },
  {
   "cell_type": "code",
   "execution_count": 89,
   "metadata": {},
   "outputs": [
    {
     "data": {
      "text/plain": "0.9979940067402522"
     },
     "execution_count": 89,
     "metadata": {},
     "output_type": "execute_result"
    }
   ],
   "source": [
    "max(causal_df.pro_scores[causal_df.D==1])"
   ]
  },
  {
   "cell_type": "code",
   "execution_count": 84,
   "metadata": {},
   "outputs": [
    {
     "data": {
      "text/plain": "(4051,)"
     },
     "execution_count": 84,
     "metadata": {},
     "output_type": "execute_result"
    }
   ],
   "source": [
    "model.raw_data['D'].shape"
   ]
  },
  {
   "cell_type": "code",
   "execution_count": 69,
   "metadata": {},
   "outputs": [],
   "source": [
    "model2.trim()"
   ]
  },
  {
   "cell_type": "code",
   "execution_count": 70,
   "metadata": {},
   "outputs": [
    {
     "data": {
      "text/plain": "(4041,)"
     },
     "execution_count": 70,
     "metadata": {},
     "output_type": "execute_result"
    }
   ],
   "source": [
    "model2.raw_data['D'].shape"
   ]
  },
  {
   "cell_type": "code",
   "execution_count": 71,
   "metadata": {},
   "outputs": [
    {
     "data": {
      "text/plain": "0"
     },
     "execution_count": 71,
     "metadata": {},
     "output_type": "execute_result"
    }
   ],
   "source": [
    "model2.cutoff"
   ]
  },
  {
   "cell_type": "code",
   "execution_count": 68,
   "metadata": {},
   "outputs": [
    {
     "data": {
      "text/plain": "(5000,)"
     },
     "execution_count": 68,
     "metadata": {},
     "output_type": "execute_result"
    }
   ],
   "source": [
    "model2.old_data['D'].shape"
   ]
  },
  {
   "cell_type": "code",
   "execution_count": null,
   "metadata": {},
   "outputs": [],
   "source": []
  }
 ],
 "metadata": {
  "kernelspec": {
   "display_name": "Python 3.9.13 64-bit",
   "name": "python3913jvsc74a57bd0b01b1b95d060c09bad5911d0164d6bd1a74fc453030f41a91b1bfed8259492f7"
  },
  "language_info": {
   "codemirror_mode": {
    "name": "ipython",
    "version": 3
   },
   "file_extension": ".py",
   "mimetype": "text/x-python",
   "name": "python",
   "nbconvert_exporter": "python",
   "pygments_lexer": "ipython3",
   "version": "3.9.13"
  },
  "metadata": {
   "interpreter": {
    "hash": "b01b1b95d060c09bad5911d0164d6bd1a74fc453030f41a91b1bfed8259492f7"
   }
  },
  "orig_nbformat": 2
 },
 "nbformat": 4,
 "nbformat_minor": 2
}